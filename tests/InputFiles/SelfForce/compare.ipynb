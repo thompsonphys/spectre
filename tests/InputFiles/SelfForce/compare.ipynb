{
 "cells": [
  {
   "cell_type": "code",
   "execution_count": null,
   "metadata": {},
   "outputs": [],
   "source": [
    "import numpy as np\n",
    "import matplotlib.pyplot as plt\n",
    "from spectre.IO.Exporter import interpolate_to_points\n",
    "from spectre.Visualization.OpenVolfiles import open_volfiles\n",
    "from spectre.Visualization.ReadH5 import list_observations"
   ]
  },
  {
   "cell_type": "code",
   "execution_count": null,
   "metadata": {},
   "outputs": [],
   "source": [
    "def load_data(var):\n",
    "    dir = f\"/Users/nilsvu/Downloads/scalar data/{dirname}\"\n",
    "    return np.loadtxt(dir + f\"/{var}_{dirname}.dat\")\n",
    "\n",
    "\n",
    "def get_dirname(a, r, m):\n",
    "    return f\"a{a:.2f}_r{r:.2f}_m{m:d}\""
   ]
  },
  {
   "cell_type": "code",
   "execution_count": null,
   "metadata": {},
   "outputs": [],
   "source": [
    "dirname = get_dirname(a=0.9, r=6, m=0)\n",
    "rstars = load_data(\"rstars\")\n",
    "thetas = load_data(\"thetas\")\n",
    "\n",
    "print(rstars[0], rstars[-1])\n",
    "\n",
    "\n",
    "def get_polarplot():\n",
    "    fig, ax = plt.subplots(figsize=(12, 12), subplot_kw={\"projection\": \"polar\"})\n",
    "    ax.set_theta_zero_location(\"N\")\n",
    "    ax.set_theta_direction(-1)\n",
    "    ax.set_thetamin(0)\n",
    "    ax.set_thetamax(180)\n",
    "    return fig, ax\n",
    "\n",
    "\n",
    "fig, ax = get_polarplot()\n",
    "data = load_data(\"Seff\")\n",
    "ax.set_xlim(thetas[0], thetas[-1])\n",
    "# ax.set_ylim(0., 5.)\n",
    "contours = ax.contourf(\n",
    "    data, extent=[thetas[0], thetas[-1], rstars[0], rstars[-1]], levels=1000\n",
    ")\n",
    "plt.colorbar(contours)"
   ]
  },
  {
   "cell_type": "code",
   "execution_count": null,
   "metadata": {},
   "outputs": [],
   "source": [
    "h5files = [\n",
    "    \"/Users/nilsvu/Projects/spectre/build-Default-Debug/test_self_force_m0/ScalarSelfForceVolume0.h5\"\n",
    "]\n",
    "obs_ids, _ = list_observations(open_volfiles(h5files, \"/VolumeData\"))\n",
    "rr, tt = np.meshgrid(rstars, thetas)\n",
    "data = (\n",
    "    np.array(\n",
    "        interpolate_to_points(\n",
    "            h5files,\n",
    "            \"/VolumeData\",\n",
    "            observation_id=obs_ids[0],\n",
    "            tensor_components=[\"FixedSource(MMode)_x\"],\n",
    "            # tensor_components=[\"BoyerLindquistRadius\"],\n",
    "            target_points=[rr.flatten(), tt.flatten()],\n",
    "        )[0]\n",
    "    )\n",
    "    .reshape(rr.shape)\n",
    "    .T\n",
    ")\n",
    "\n",
    "fig, ax = get_polarplot()\n",
    "ax.set_xlim(thetas[0], thetas[-1])\n",
    "# ax.set_ylim(2, 10)\n",
    "contours = plt.contourf(\n",
    "    np.log10(np.abs(data - load_data(\"Seff\"))),\n",
    "    extent=[thetas[0], thetas[-1], rstars[0], rstars[-1]],\n",
    "    levels=1000,\n",
    ")\n",
    "plt.colorbar(contours)"
   ]
  },
  {
   "cell_type": "code",
   "execution_count": null,
   "metadata": {},
   "outputs": [],
   "source": [
    "psi = (\n",
    "    np.array(\n",
    "        interpolate_to_points(\n",
    "            h5files,\n",
    "            \"/VolumeData\",\n",
    "            observation_id=obs_ids[-1],\n",
    "            tensor_components=[\"Re(SingularField)\"],\n",
    "            target_points=[rr.flatten(), tt.flatten()],\n",
    "        )[0]\n",
    "    )\n",
    "    .reshape(rr.shape)\n",
    "    .T\n",
    ")\n",
    "\n",
    "fig, ax = get_polarplot()\n",
    "# ax.set_xlim(np.pi / 2 - np.pi / 6, np.pi / 2 + np.pi / 6)\n",
    "ax.set_xlim(thetas[0], thetas[-1])\n",
    "# ax.set_ylim(2, 10)\n",
    "contours = plt.contourf(\n",
    "    np.log10(np.abs(psi - load_data(\"psiS\"))),\n",
    "    # load_data(\"psiRe\") + load_data(\"puncRe\") - psi - data,\n",
    "    extent=[thetas[0], thetas[-1], rstars[0], rstars[-1]],\n",
    "    # levels=np.linspace(1, 2, 4),\n",
    "    levels=1000,\n",
    ")\n",
    "plt.colorbar(contours)"
   ]
  },
  {
   "cell_type": "code",
   "execution_count": null,
   "metadata": {},
   "outputs": [],
   "source": []
  }
 ],
 "metadata": {
  "kernelspec": {
   "display_name": "Python 3 (ipykernel)",
   "language": "python",
   "name": "python3"
  },
  "language_info": {
   "codemirror_mode": {
    "name": "ipython",
    "version": 3
   },
   "file_extension": ".py",
   "mimetype": "text/x-python",
   "name": "python",
   "nbconvert_exporter": "python",
   "pygments_lexer": "ipython3",
   "version": "3.10.14"
  }
 },
 "nbformat": 4,
 "nbformat_minor": 2
}
